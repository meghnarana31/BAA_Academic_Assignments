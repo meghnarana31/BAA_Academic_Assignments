{
 "cells": [
  {
   "cell_type": "markdown",
   "id": "8b37422f",
   "metadata": {},
   "source": [
    "# Assignment\n"
   ]
  },
  {
   "cell_type": "markdown",
   "id": "26c1363e",
   "metadata": {},
   "source": [
    "I have taught you how to get data from twitter. \n",
    "\n",
    "----\n",
    "\n",
    "# Question \n",
    "1. The world is your Oyster. Make something you are proud of. \n",
    "2. Let's see what you can do. \n",
    "\n",
    "Best of luck !!\n",
    "\n",
    "![](https://media.tenor.com/Ql5WzxnDp6kAAAAC/hbd-bhalla-baahubali.gif)"
   ]
  },
  {
   "cell_type": "code",
   "execution_count": null,
   "id": "e8d6d307",
   "metadata": {},
   "outputs": [],
   "source": []
  },
  {
   "cell_type": "code",
   "execution_count": null,
   "id": "87ecb70d",
   "metadata": {},
   "outputs": [],
   "source": []
  }
 ],
 "metadata": {
  "kernelspec": {
   "display_name": "Python 3 (ipykernel)",
   "language": "python",
   "name": "python3"
  },
  "language_info": {
   "codemirror_mode": {
    "name": "ipython",
    "version": 3
   },
   "file_extension": ".py",
   "mimetype": "text/x-python",
   "name": "python",
   "nbconvert_exporter": "python",
   "pygments_lexer": "ipython3",
   "version": "3.9.16"
  }
 },
 "nbformat": 4,
 "nbformat_minor": 5
}
