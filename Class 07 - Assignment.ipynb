{
 "cells": [
  {
   "cell_type": "markdown",
   "id": "8b37422f",
   "metadata": {},
   "source": [
    "# Assignment\n"
   ]
  },
  {
   "cell_type": "markdown",
   "id": "26c1363e",
   "metadata": {},
   "source": [
    "You have already picked out the dataset you want to work with. \n",
    "\n",
    "----\n",
    "\n",
    "# Question \n",
    "1. EDA, i want to see some insights, present it neatly. \n",
    "2. Fit a Decision Tree Regressor model on your data. \n",
    "3. I want to see the training and testing accuracy of your model. So do split your data before modelling.\n",
    "\n",
    "\n",
    "### Brownie Points (Extra 15 points)\n",
    "- Lastly, i want to see a function where i can input my values and get a prediction of whatever you are trying to predict. Think this through !!.\n",
    "\n",
    "\n",
    "\n",
    "Best of luck !!\n",
    "\n",
    "![](https://media.tenor.com/mUVjXo5LhsQAAAAC/kakashi-yes.gif)\n"
   ]
  },
  {
   "cell_type": "code",
   "execution_count": 4,
   "id": "626f10f4",
   "metadata": {},
   "outputs": [],
   "source": [
    "import pandas as pd\n",
    "import matplotlib.pyplot as plt\n",
    "import seaborn as sns\n",
    "import numpy as np"
   ]
  },
  {
   "cell_type": "code",
   "execution_count": 5,
   "id": "774831cf",
   "metadata": {},
   "outputs": [],
   "source": [
    "df = pd.read_csv('/Users/meghnarana/Downloads/archive (5)/AmazonBooks - Sheet1.csv')"
   ]
  },
  {
   "cell_type": "code",
   "execution_count": 6,
   "id": "b33baa13",
   "metadata": {},
   "outputs": [
    {
     "data": {
      "text/html": [
       "<div>\n",
       "<style scoped>\n",
       "    .dataframe tbody tr th:only-of-type {\n",
       "        vertical-align: middle;\n",
       "    }\n",
       "\n",
       "    .dataframe tbody tr th {\n",
       "        vertical-align: top;\n",
       "    }\n",
       "\n",
       "    .dataframe thead th {\n",
       "        text-align: right;\n",
       "    }\n",
       "</style>\n",
       "<table border=\"1\" class=\"dataframe\">\n",
       "  <thead>\n",
       "    <tr style=\"text-align: right;\">\n",
       "      <th></th>\n",
       "      <th>Name</th>\n",
       "      <th>Author</th>\n",
       "      <th>User Rating</th>\n",
       "      <th>Reviews</th>\n",
       "      <th>Price</th>\n",
       "      <th>Year</th>\n",
       "      <th>Genre</th>\n",
       "    </tr>\n",
       "  </thead>\n",
       "  <tbody>\n",
       "    <tr>\n",
       "      <th>0</th>\n",
       "      <td>10-Day Green Smoothie Cleanse</td>\n",
       "      <td>JJ Smith</td>\n",
       "      <td>4.7</td>\n",
       "      <td>17350</td>\n",
       "      <td>8</td>\n",
       "      <td>2016</td>\n",
       "      <td>Non Fiction</td>\n",
       "    </tr>\n",
       "    <tr>\n",
       "      <th>1</th>\n",
       "      <td>11/22/63: A Novel</td>\n",
       "      <td>Stephen King</td>\n",
       "      <td>4.6</td>\n",
       "      <td>2052</td>\n",
       "      <td>22</td>\n",
       "      <td>2011</td>\n",
       "      <td>Fiction</td>\n",
       "    </tr>\n",
       "    <tr>\n",
       "      <th>2</th>\n",
       "      <td>12 Rules for Life: An Antidote to Chaos</td>\n",
       "      <td>Jordan B. Peterson</td>\n",
       "      <td>4.7</td>\n",
       "      <td>18979</td>\n",
       "      <td>15</td>\n",
       "      <td>2018</td>\n",
       "      <td>Non Fiction</td>\n",
       "    </tr>\n",
       "    <tr>\n",
       "      <th>3</th>\n",
       "      <td>1984 (Signet Classics)</td>\n",
       "      <td>George Orwell</td>\n",
       "      <td>4.7</td>\n",
       "      <td>21424</td>\n",
       "      <td>6</td>\n",
       "      <td>2017</td>\n",
       "      <td>Fiction</td>\n",
       "    </tr>\n",
       "    <tr>\n",
       "      <th>4</th>\n",
       "      <td>5,000 Awesome Facts (About Everything!) (Natio...</td>\n",
       "      <td>National Geographic Kids</td>\n",
       "      <td>4.8</td>\n",
       "      <td>7665</td>\n",
       "      <td>12</td>\n",
       "      <td>2019</td>\n",
       "      <td>Non Fiction</td>\n",
       "    </tr>\n",
       "    <tr>\n",
       "      <th>...</th>\n",
       "      <td>...</td>\n",
       "      <td>...</td>\n",
       "      <td>...</td>\n",
       "      <td>...</td>\n",
       "      <td>...</td>\n",
       "      <td>...</td>\n",
       "      <td>...</td>\n",
       "    </tr>\n",
       "    <tr>\n",
       "      <th>595</th>\n",
       "      <td>Live Free Or Die: America (and the World) on t...</td>\n",
       "      <td>Sean Hannity</td>\n",
       "      <td>4.8</td>\n",
       "      <td>20153</td>\n",
       "      <td>15</td>\n",
       "      <td>2020</td>\n",
       "      <td>Non Fiction</td>\n",
       "    </tr>\n",
       "    <tr>\n",
       "      <th>596</th>\n",
       "      <td>Burn After Writing</td>\n",
       "      <td>Sharon Jones</td>\n",
       "      <td>4.6</td>\n",
       "      <td>26423</td>\n",
       "      <td>8</td>\n",
       "      <td>2020</td>\n",
       "      <td>Non Fiction</td>\n",
       "    </tr>\n",
       "    <tr>\n",
       "      <th>597</th>\n",
       "      <td>Get Out of Your Head: Stopping the Spiral of T...</td>\n",
       "      <td>Jennie Allen</td>\n",
       "      <td>4.7</td>\n",
       "      <td>12879</td>\n",
       "      <td>14</td>\n",
       "      <td>2020</td>\n",
       "      <td>Non Fiction</td>\n",
       "    </tr>\n",
       "    <tr>\n",
       "      <th>598</th>\n",
       "      <td>Human Body Activity Book for Kids: Hands-On Fu...</td>\n",
       "      <td>Katie Stokes</td>\n",
       "      <td>4.7</td>\n",
       "      <td>14128</td>\n",
       "      <td>5</td>\n",
       "      <td>2020</td>\n",
       "      <td>Non Fiction</td>\n",
       "    </tr>\n",
       "    <tr>\n",
       "      <th>599</th>\n",
       "      <td>Educated: A Memoir</td>\n",
       "      <td>Tara Westover</td>\n",
       "      <td>4.7</td>\n",
       "      <td>45351</td>\n",
       "      <td>11</td>\n",
       "      <td>2020</td>\n",
       "      <td>Non Fiction</td>\n",
       "    </tr>\n",
       "  </tbody>\n",
       "</table>\n",
       "<p>600 rows × 7 columns</p>\n",
       "</div>"
      ],
      "text/plain": [
       "                                                  Name  \\\n",
       "0                        10-Day Green Smoothie Cleanse   \n",
       "1                                    11/22/63: A Novel   \n",
       "2              12 Rules for Life: An Antidote to Chaos   \n",
       "3                               1984 (Signet Classics)   \n",
       "4    5,000 Awesome Facts (About Everything!) (Natio...   \n",
       "..                                                 ...   \n",
       "595  Live Free Or Die: America (and the World) on t...   \n",
       "596                                 Burn After Writing   \n",
       "597  Get Out of Your Head: Stopping the Spiral of T...   \n",
       "598  Human Body Activity Book for Kids: Hands-On Fu...   \n",
       "599                                 Educated: A Memoir   \n",
       "\n",
       "                       Author  User Rating  Reviews  Price  Year        Genre  \n",
       "0                    JJ Smith          4.7    17350      8  2016  Non Fiction  \n",
       "1                Stephen King          4.6     2052     22  2011      Fiction  \n",
       "2          Jordan B. Peterson          4.7    18979     15  2018  Non Fiction  \n",
       "3               George Orwell          4.7    21424      6  2017      Fiction  \n",
       "4    National Geographic Kids          4.8     7665     12  2019  Non Fiction  \n",
       "..                        ...          ...      ...    ...   ...          ...  \n",
       "595              Sean Hannity          4.8    20153     15  2020  Non Fiction  \n",
       "596              Sharon Jones          4.6    26423      8  2020  Non Fiction  \n",
       "597              Jennie Allen          4.7    12879     14  2020  Non Fiction  \n",
       "598              Katie Stokes          4.7    14128      5  2020  Non Fiction  \n",
       "599            Tara Westover           4.7    45351     11  2020  Non Fiction  \n",
       "\n",
       "[600 rows x 7 columns]"
      ]
     },
     "execution_count": 6,
     "metadata": {},
     "output_type": "execute_result"
    }
   ],
   "source": [
    "df"
   ]
  },
  {
   "cell_type": "code",
   "execution_count": 16,
   "id": "96576a1a",
   "metadata": {},
   "outputs": [
    {
     "name": "stdout",
     "output_type": "stream",
     "text": [
      "<class 'pandas.core.frame.DataFrame'>\n",
      "RangeIndex: 600 entries, 0 to 599\n",
      "Data columns (total 7 columns):\n",
      " #   Column       Non-Null Count  Dtype  \n",
      "---  ------       --------------  -----  \n",
      " 0   Name         600 non-null    object \n",
      " 1   Author       600 non-null    object \n",
      " 2   User Rating  600 non-null    float64\n",
      " 3   Reviews      600 non-null    int64  \n",
      " 4   Price        600 non-null    int64  \n",
      " 5   Year         600 non-null    int64  \n",
      " 6   Genre        600 non-null    object \n",
      "dtypes: float64(1), int64(3), object(3)\n",
      "memory usage: 32.9+ KB\n"
     ]
    }
   ],
   "source": [
    "df.info()"
   ]
  },
  {
   "cell_type": "code",
   "execution_count": 18,
   "id": "054af5e3",
   "metadata": {},
   "outputs": [
    {
     "data": {
      "text/plain": [
       "Name            object\n",
       "Author          object\n",
       "User Rating    float64\n",
       "Reviews          int64\n",
       "Price            int64\n",
       "Year             int64\n",
       "Genre           object\n",
       "dtype: object"
      ]
     },
     "execution_count": 18,
     "metadata": {},
     "output_type": "execute_result"
    }
   ],
   "source": [
    "df.dtypes"
   ]
  },
  {
   "cell_type": "code",
   "execution_count": 19,
   "id": "b591f98b",
   "metadata": {},
   "outputs": [
    {
     "data": {
      "text/plain": [
       "Name           390\n",
       "Author         275\n",
       "User Rating     14\n",
       "Reviews        395\n",
       "Price           40\n",
       "Year            12\n",
       "Genre            2\n",
       "dtype: int64"
      ]
     },
     "execution_count": 19,
     "metadata": {},
     "output_type": "execute_result"
    }
   ],
   "source": [
    "df.nunique()"
   ]
  },
  {
   "cell_type": "code",
   "execution_count": 20,
   "id": "db57612d",
   "metadata": {},
   "outputs": [
    {
     "data": {
      "text/plain": [
       "Publication Manual of the American Psychological Association, 6th Edition            10\n",
       "StrengthsFinder 2.0                                                                   9\n",
       "Oh, the Places You'll Go!                                                             8\n",
       "The Very Hungry Caterpillar                                                           8\n",
       "The 7 Habits of Highly Effective People: Powerful Lessons in Personal Change          7\n",
       "Giraffes Can't Dance                                                                  6\n",
       "The 5 Love Languages: The Secret to Love that Lasts                                   6\n",
       "The Four Agreements: A Practical Guide to Personal Freedom (A Toltec Wisdom Book)     6\n",
       "Jesus Calling: Enjoying Peace in His Presence (with Scripture References)             6\n",
       "Wonder                                                                                5\n",
       "Name: Name, dtype: int64"
      ]
     },
     "execution_count": 20,
     "metadata": {},
     "output_type": "execute_result"
    }
   ],
   "source": [
    "df['Name'].value_counts().head(10)"
   ]
  },
  {
   "cell_type": "code",
   "execution_count": 21,
   "id": "57905ce2",
   "metadata": {},
   "outputs": [
    {
     "data": {
      "text/plain": [
       "Year\n",
       "2009    4.584\n",
       "2010    4.558\n",
       "2011    4.558\n",
       "2012    4.532\n",
       "2013    4.554\n",
       "2014    4.622\n",
       "2015    4.648\n",
       "2016    4.678\n",
       "2017    4.660\n",
       "2018    4.668\n",
       "2019    4.740\n",
       "2020    4.726\n",
       "Name: User Rating, dtype: float64"
      ]
     },
     "execution_count": 21,
     "metadata": {},
     "output_type": "execute_result"
    }
   ],
   "source": [
    "df.groupby('Year')['User Rating'].mean()"
   ]
  },
  {
   "cell_type": "code",
   "execution_count": 22,
   "id": "b2ebc79e",
   "metadata": {},
   "outputs": [
    {
     "name": "stdout",
     "output_type": "stream",
     "text": [
      "Year\n",
      "2009     235506\n",
      "2010     273981\n",
      "2011     405041\n",
      "2012     654546\n",
      "2013     654907\n",
      "2014     792997\n",
      "2015     711669\n",
      "2016     709800\n",
      "2017     644420\n",
      "2018     696521\n",
      "2019     794917\n",
      "2020    1790733\n",
      "Name: Reviews, dtype: int64\n"
     ]
    }
   ],
   "source": [
    "print(df.groupby('Year')['Reviews'].sum())"
   ]
  },
  {
   "cell_type": "code",
   "execution_count": 9,
   "id": "58658340",
   "metadata": {},
   "outputs": [
    {
     "data": {
      "text/html": [
       "<div>\n",
       "<style scoped>\n",
       "    .dataframe tbody tr th:only-of-type {\n",
       "        vertical-align: middle;\n",
       "    }\n",
       "\n",
       "    .dataframe tbody tr th {\n",
       "        vertical-align: top;\n",
       "    }\n",
       "\n",
       "    .dataframe thead th {\n",
       "        text-align: right;\n",
       "    }\n",
       "</style>\n",
       "<table border=\"1\" class=\"dataframe\">\n",
       "  <thead>\n",
       "    <tr style=\"text-align: right;\">\n",
       "      <th></th>\n",
       "      <th>User Rating</th>\n",
       "      <th>Reviews</th>\n",
       "      <th>Price</th>\n",
       "      <th>Year</th>\n",
       "    </tr>\n",
       "  </thead>\n",
       "  <tbody>\n",
       "    <tr>\n",
       "      <th>count</th>\n",
       "      <td>600.000000</td>\n",
       "      <td>600.000000</td>\n",
       "      <td>600.00000</td>\n",
       "      <td>600.000000</td>\n",
       "    </tr>\n",
       "    <tr>\n",
       "      <th>mean</th>\n",
       "      <td>4.627333</td>\n",
       "      <td>13941.730000</td>\n",
       "      <td>12.92000</td>\n",
       "      <td>2014.500000</td>\n",
       "    </tr>\n",
       "    <tr>\n",
       "      <th>std</th>\n",
       "      <td>0.225324</td>\n",
       "      <td>14652.813591</td>\n",
       "      <td>10.49717</td>\n",
       "      <td>3.454933</td>\n",
       "    </tr>\n",
       "    <tr>\n",
       "      <th>min</th>\n",
       "      <td>3.300000</td>\n",
       "      <td>37.000000</td>\n",
       "      <td>0.00000</td>\n",
       "      <td>2009.000000</td>\n",
       "    </tr>\n",
       "    <tr>\n",
       "      <th>25%</th>\n",
       "      <td>4.500000</td>\n",
       "      <td>4586.500000</td>\n",
       "      <td>7.00000</td>\n",
       "      <td>2011.750000</td>\n",
       "    </tr>\n",
       "    <tr>\n",
       "      <th>50%</th>\n",
       "      <td>4.700000</td>\n",
       "      <td>9059.500000</td>\n",
       "      <td>11.00000</td>\n",
       "      <td>2014.500000</td>\n",
       "    </tr>\n",
       "    <tr>\n",
       "      <th>75%</th>\n",
       "      <td>4.800000</td>\n",
       "      <td>19587.500000</td>\n",
       "      <td>16.00000</td>\n",
       "      <td>2017.250000</td>\n",
       "    </tr>\n",
       "    <tr>\n",
       "      <th>max</th>\n",
       "      <td>4.900000</td>\n",
       "      <td>120727.000000</td>\n",
       "      <td>105.00000</td>\n",
       "      <td>2020.000000</td>\n",
       "    </tr>\n",
       "  </tbody>\n",
       "</table>\n",
       "</div>"
      ],
      "text/plain": [
       "       User Rating        Reviews      Price         Year\n",
       "count   600.000000     600.000000  600.00000   600.000000\n",
       "mean      4.627333   13941.730000   12.92000  2014.500000\n",
       "std       0.225324   14652.813591   10.49717     3.454933\n",
       "min       3.300000      37.000000    0.00000  2009.000000\n",
       "25%       4.500000    4586.500000    7.00000  2011.750000\n",
       "50%       4.700000    9059.500000   11.00000  2014.500000\n",
       "75%       4.800000   19587.500000   16.00000  2017.250000\n",
       "max       4.900000  120727.000000  105.00000  2020.000000"
      ]
     },
     "execution_count": 9,
     "metadata": {},
     "output_type": "execute_result"
    }
   ],
   "source": [
    "df.describe()"
   ]
  },
  {
   "cell_type": "code",
   "execution_count": null,
   "id": "e8d6d307",
   "metadata": {},
   "outputs": [],
   "source": [
    "What are the most popular genres of books on Amazon's bestseller list? Are there any trends in genre popularity over time?\n",
    "\n",
    "Which authors have the most books on the bestseller list? Are there any trends in author popularity over time?\n",
    "\n",
    "What is the average user rating for books on the bestseller list? Is there a relationship between user rating and book sales?\n",
    "\n",
    "How many reviews do books on the bestseller list typically receive? Is there a relationship between the number of reviews and book sales?\n",
    "\n",
    "What is the average price of books on the bestseller list? Is there a relationship between book price and sales?\n",
    "\n",
    "How has the book market changed over time? Are there any notable shifts in genre popularity, author success, or other factors that may impact sales?"
   ]
  },
  {
   "cell_type": "markdown",
   "id": "30778f79",
   "metadata": {},
   "source": [
    "## What are the most popular genres of books on Amazon's bestseller list? Are there any trends in genre popularity over time?"
   ]
  },
  {
   "cell_type": "code",
   "execution_count": 15,
   "id": "3aa98be7",
   "metadata": {},
   "outputs": [
    {
     "data": {
      "image/png": "[encoded data removed]",
      "text/plain": [
       "<Figure size 640x480 with 1 Axes>"
      ]
     },
     "metadata": {},
     "output_type": "display_data"
    },
    {
     "data": {
      "image/png": "[encoded data removed]",
      "text/plain": [
       "<Figure size 1000x500 with 1 Axes>"
      ]
     },
     "metadata": {},
     "output_type": "display_data"
    }
   ],
   "source": [
    "# count the number of books in each genre\n",
    "genre_counts = df['Genre'].value_counts()\n",
    "\n",
    "# create a bar chart of genre counts\n",
    "plt.bar(genre_counts.index, genre_counts.values)\n",
    "plt.title('Genre Popularity on Amazon Bestseller List')\n",
    "plt.xlabel('Genre')\n",
    "plt.ylabel('Number of Books')\n",
    "plt.show()\n",
    "\n",
    "# group the data by year and genre, and count the number of books in each group\n",
    "yearly_genre_counts = df.groupby(['Year', 'Genre'])['Name'].count().reset_index()\n",
    "\n",
    "# create a line chart of genre counts over time\n",
    "fig, ax = plt.subplots(figsize=(10, 5))\n",
    "for genre in yearly_genre_counts['Genre'].unique():\n",
    "    genre_data = yearly_genre_counts[yearly_genre_counts['Genre'] == genre]\n",
    "    ax.plot(genre_data['Year'], genre_data['Name'], label=genre)\n",
    "ax.set_title('Genre Popularity Over Time on Amazon Bestseller List')\n",
    "ax.set_xlabel('Year')\n",
    "ax.set_ylabel('Number of Books')\n",
    "ax.legend()\n",
    "plt.show()"
   ]
  },
  {
   "cell_type": "markdown",
   "id": "bd8a3673",
   "metadata": {},
   "source": [
    "# "
   ]
  },
  {
   "cell_type": "code",
   "execution_count": null,
   "id": "3dce7ee5",
   "metadata": {},
   "outputs": [],
   "source": []
  },
  {
   "cell_type": "code",
   "execution_count": null,
   "id": "0dffa161",
   "metadata": {},
   "outputs": [],
   "source": []
  },
  {
   "cell_type": "code",
   "execution_count": null,
   "id": "f5393b7e",
   "metadata": {},
   "outputs": [],
   "source": []
  },
  {
   "cell_type": "code",
   "execution_count": null,
   "id": "0ca443f5",
   "metadata": {},
   "outputs": [],
   "source": []
  },
  {
   "cell_type": "code",
   "execution_count": null,
   "id": "43e150d7",
   "metadata": {},
   "outputs": [],
   "source": []
  },
  {
   "cell_type": "code",
   "execution_count": null,
   "id": "b1c6fe7e",
   "metadata": {},
   "outputs": [],
   "source": []
  },
  {
   "cell_type": "code",
   "execution_count": null,
   "id": "b992bf96",
   "metadata": {},
   "outputs": [],
   "source": []
  },
  {
   "cell_type": "code",
   "execution_count": null,
   "id": "484c6e69",
   "metadata": {},
   "outputs": [],
   "source": []
  },
  {
   "cell_type": "code",
   "execution_count": null,
   "id": "13d9bd60",
   "metadata": {},
   "outputs": [],
   "source": []
  },
  {
   "cell_type": "code",
   "execution_count": null,
   "id": "70ecb373",
   "metadata": {},
   "outputs": [],
   "source": []
  },
  {
   "cell_type": "code",
   "execution_count": null,
   "id": "2723f3a3",
   "metadata": {},
   "outputs": [],
   "source": [
    "What is the average price of books on the bestseller list, and how has this changed over time?\n",
    "\n",
    "Are there any patterns in terms of book prices within specific genres or for specific authors?\n",
    "\n",
    "What is the relationship between book price and sales? Are there any price points at which sales tend to increase or decrease significantly?\n",
    "\n",
    "Are there any differences in terms of book pricing strategies between traditionally published books and self-published books?\n",
    "\n",
    "How do discounts or promotions impact book sales? Are there any patterns in terms of the types of promotions that tend to be most effective?"
   ]
  },
  {
   "cell_type": "code",
   "execution_count": null,
   "id": "09e6b9cf",
   "metadata": {},
   "outputs": [],
   "source": [
    "Which books have consistently appeared on the bestseller list over time, and what factors contribute to their success?\n",
    "\n",
    "Which books have seen the biggest increase or decrease in sales over time, and what factors may have contributed to these changes?\n",
    "\n",
    "Are there any patterns in terms of book length, language complexity, or other writing style factors that may be associated with bestselling books?\n",
    "\n",
    "What is the relationship between author success and book sales? Do authors who have multiple books on the bestseller list tend to have higher sales across all of their books?\n",
    "\n",
    "How do user ratings and reviews impact book sales? Is there a threshold at which user ratings or reviews start to significantly impact sales?"
   ]
  }
 ],
 "metadata": {
  "kernelspec": {
   "display_name": "Python 3 (ipykernel)",
   "language": "python",
   "name": "python3"
  },
  "language_info": {
   "codemirror_mode": {
    "name": "ipython",
    "version": 3
   },
   "file_extension": ".py",
   "mimetype": "text/x-python",
   "name": "python",
   "nbconvert_exporter": "python",
   "pygments_lexer": "ipython3",
   "version": "3.9.16"
  }
 },
 "nbformat": 4,
 "nbformat_minor": 5
}
